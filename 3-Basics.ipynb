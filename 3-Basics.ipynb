{
 "cells": [
  {
   "cell_type": "code",
   "execution_count": 1,
   "metadata": {
    "collapsed": false
   },
   "outputs": [],
   "source": [
    "%matplotlib inline\n",
    "import pandas as pd\n",
    "import numpy as np;\n",
    "import matplotlib.pyplot as plt\n",
    "train=pd.read_csv(\"train.csv\");\n",
    "holdout=pd.read_csv(\"test.csv\");\n"
   ]
  },
  {
   "cell_type": "code",
   "execution_count": 2,
   "metadata": {
    "collapsed": false
   },
   "outputs": [],
   "source": [
    "# %load functions.py\n",
    "def process_missing(df):\n",
    "    \"\"\"Handle various missing values from the data set\n",
    "\n",
    "    Usage\n",
    "    ------\n",
    "\n",
    "    holdout = process_missing(holdout)\n",
    "    \"\"\"\n",
    "    df[\"Fare\"] = df[\"Fare\"].fillna(train[\"Fare\"].mean())\n",
    "    df[\"Embarked\"] = df[\"Embarked\"].fillna(\"S\")\n",
    "    return df\n",
    "\n",
    "def process_age(df):\n",
    "    \"\"\"Process the Age column into pre-defined 'bins' \n",
    "\n",
    "    Usage\n",
    "    ------\n",
    "\n",
    "    train = process_age(train)\n",
    "    \"\"\"\n",
    "    df[\"Age\"] = df[\"Age\"].fillna(-0.5)\n",
    "    cut_points = [-1,0,5,12,18,35,60,100]\n",
    "    label_names = [\"Missing\",\"Infant\",\"Child\",\"Teenager\",\"Young Adult\",\"Adult\",\"Senior\"]\n",
    "    df[\"Age_categories\"] = pd.cut(df[\"Age\"],cut_points,labels=label_names)\n",
    "    return df\n",
    "\n",
    "def process_fare(df):\n",
    "    \"\"\"Process the Fare column into pre-defined 'bins' \n",
    "\n",
    "    Usage\n",
    "    ------\n",
    "\n",
    "    train = process_fare(train)\n",
    "    \"\"\"\n",
    "    cut_points = [-1,12,50,100,1000]\n",
    "    label_names = [\"0-12\",\"12-50\",\"50-100\",\"100+\"]\n",
    "    df[\"Fare_categories\"] = pd.cut(df[\"Fare\"],cut_points,labels=label_names)\n",
    "    return df\n",
    "\n",
    "def process_cabin(df):\n",
    "    \"\"\"Process the Cabin column into pre-defined 'bins' \n",
    "\n",
    "    Usage\n",
    "    ------\n",
    "\n",
    "    train process_cabin(train)\n",
    "    \"\"\"\n",
    "    df[\"Cabin_type\"] = df[\"Cabin\"].str[0]\n",
    "    df[\"Cabin_type\"] = df[\"Cabin_type\"].fillna(\"Unknown\")\n",
    "    df = df.drop('Cabin',axis=1)\n",
    "    return df\n",
    "\n",
    "def process_titles(df):\n",
    "    \"\"\"Extract and categorize the title from the name column \n",
    "\n",
    "    Usage\n",
    "    ------\n",
    "\n",
    "    train = process_titles(train)\n",
    "    \"\"\"\n",
    "    titles = {\n",
    "        \"Mr\" :         \"Mr\",\n",
    "        \"Mme\":         \"Mrs\",\n",
    "        \"Ms\":          \"Mrs\",\n",
    "        \"Mrs\" :        \"Mrs\",\n",
    "        \"Master\" :     \"Master\",\n",
    "        \"Mlle\":        \"Miss\",\n",
    "        \"Miss\" :       \"Miss\",\n",
    "        \"Capt\":        \"Officer\",\n",
    "        \"Col\":         \"Officer\",\n",
    "        \"Major\":       \"Officer\",\n",
    "        \"Dr\":          \"Officer\",\n",
    "        \"Rev\":         \"Officer\",\n",
    "        \"Jonkheer\":    \"Royalty\",\n",
    "        \"Don\":         \"Royalty\",\n",
    "        \"Sir\" :        \"Royalty\",\n",
    "        \"Countess\":    \"Royalty\",\n",
    "        \"Dona\":        \"Royalty\",\n",
    "        \"Lady\" :       \"Royalty\"\n",
    "    }\n",
    "    extracted_titles = df[\"Name\"].str.extract(' ([A-Za-z]+)\\.',expand=False)\n",
    "    df[\"Title\"] = extracted_titles.map(titles)\n",
    "    return df\n",
    "\n",
    "def create_dummies(df,column_name):\n",
    "    \"\"\"Create Dummy Columns (One Hot Encoding) from a single Column\n",
    "\n",
    "    Usage\n",
    "    ------\n",
    "\n",
    "    train = create_dummies(train,\"Age\")\n",
    "    \"\"\"\n",
    "    dummies = pd.get_dummies(df[column_name],prefix=column_name)\n",
    "    df = pd.concat([df,dummies],axis=1)\n",
    "    return df"
   ]
  },
  {
   "cell_type": "code",
   "execution_count": 3,
   "metadata": {
    "collapsed": false
   },
   "outputs": [],
   "source": [
    "def process_columns(df):\n",
    "    process_missing(df);\n",
    "    process_age(df);\n",
    "    process_fare(df);\n",
    "    process_titles(df);\n",
    "    process_cabin(df);\n",
    "   \n",
    "    return df;\n",
    "def create_dummy_columns(df):\n",
    "    for each in [\"Age_categories\",\"Fare_categories\",\"Title\",\"Cabin_type\",\"Sex\"] :\n",
    "        df=create_dummies(df,each);\n",
    "    return df;\n",
    "\n",
    "train=process_columns(train);\n",
    "train=create_dummy_columns(train);\n",
    "holdout=process_columns(holdout);\n",
    "holdout=create_dummy_columns(holdout);\n",
    "\n",
    "    "
   ]
  },
  {
   "cell_type": "code",
   "execution_count": 4,
   "metadata": {
    "collapsed": false
   },
   "outputs": [
    {
     "data": {
      "image/png": "[encoded data removed]",
      "text/plain": [
       "<matplotlib.figure.Figure at 0x7f51e2a51f60>"
      ]
     },
     "metadata": {},
     "output_type": "display_data"
    }
   ],
   "source": [
    "sibsp=train.pivot_table(index=\"SibSp\",values=\"Survived\");\n",
    "\n",
    "parch=train.pivot_table(index=\"Parch\", values=\"Survived\");\n",
    "\n",
    "min=pd.concat([sibsp,parch],ignore_index=True)\n",
    "\n",
    "min.plot.bar();\n",
    "\n",
    "plt.show()"
   ]
  },
  {
   "cell_type": "code",
   "execution_count": 5,
   "metadata": {
    "collapsed": false
   },
   "outputs": [
    {
     "data": {
      "image/png": "[encoded data removed]",
      "text/plain": [
       "<matplotlib.figure.Figure at 0x7f51e0984c50>"
      ]
     },
     "metadata": {},
     "output_type": "display_data"
    }
   ],
   "source": [
    "explore_cols = [\"SibSp\",\"Parch\",\"Survived\"]\n",
    "explore = train[explore_cols].copy()\n",
    "\n",
    "explore['familysize'] = explore[[\"SibSp\",\"Parch\"]].sum(axis=1)\n",
    "pivot = explore.pivot_table(index=\"familysize\",values=\"Survived\")\n",
    "pivot.plot.bar(ylim=(0,1),yticks=np.arange(0,1,.1))\n",
    "plt.show()"
   ]
  },
  {
   "cell_type": "code",
   "execution_count": 6,
   "metadata": {
    "collapsed": false
   },
   "outputs": [],
   "source": [
    "def process(df):\n",
    "    df[\"isalone\"]=explore[\"familysize\"]==0;\n",
    "    df.loc[df[\"isalone\"]==True,\"isalone\"]=1;\n",
    "    df.loc[df[\"isalone\"]==False,\"isalone\"]=0;\n",
    "process(train);\n",
    "process(holdout)\n"
   ]
  },
  {
   "cell_type": "code",
   "execution_count": 9,
   "metadata": {
    "collapsed": false
   },
   "outputs": [
    {
     "name": "stdout",
     "output_type": "stream",
     "text": [
      "Index(['Pclass', 'Age', 'SibSp', 'Parch', 'Fare', 'Age_categories_Missing',\n",
      "       'Age_categories_Infant', 'Age_categories_Young Adult',\n",
      "       'Fare_categories_12-50', 'Title_Miss', 'Title_Mr', 'Title_Mrs',\n",
      "       'Cabin_type_D', 'Cabin_type_E', 'Cabin_type_Unknown', 'Sex_female',\n",
      "       'Sex_male', 'isalone'],\n",
      "      dtype='object')\n"
     ]
    },
    {
     "name": "stderr",
     "output_type": "stream",
     "text": [
      "/dataquest/system/env/python3/lib/python3.4/site-packages/sklearn/utils/__init__.py:54: FutureWarning: Conversion of the second argument of issubdtype from `int` to `np.signedinteger` is deprecated. In future, it will be treated as `np.int64 == np.dtype(int).type`.\n",
      "  if np.issubdtype(mask.dtype, np.int):\n"
     ]
    }
   ],
   "source": [
    "from sklearn.feature_selection import RFECV \n",
    "from sklearn.ensemble import RandomForestClassifier\n",
    "def select_feature(df):\n",
    "    df.dropna(axis=0)\n",
    "    df=df._get_numeric_data()\n",
    "    columns=[];\n",
    "    for each in df:\n",
    "        columns.append(each);\n",
    "    all_X=df.drop(['Survived','PassengerId'],axis=1)\n",
    "    all_y=df[\"Survived\"];\n",
    "    rfc=RandomForestClassifier(random_state=1);\n",
    "    selector=RFECV(rfc,cv=10);\n",
    "    selector.fit(all_X,all_y);\n",
    "    best_columns=all_X.columns[selector.support_];\n",
    "    return best_columns;\n",
    "best_columns=select_feature(train)\n",
    "print(best_columns)"
   ]
  },
  {
   "cell_type": "code",
   "execution_count": 10,
   "metadata": {
    "collapsed": false
   },
   "outputs": [
    {
     "name": "stdout",
     "output_type": "stream",
     "text": [
      "{'LogisticRegression': {'best_params': {'solver': 'liblinear'}, 'best_score': 0.8204264870931538, 'estimator': LogisticRegression(C=1.0, class_weight=None, dual=False, fit_intercept=True,\n",
      "          intercept_scaling=1, max_iter=100, multi_class='ovr', n_jobs=1,\n",
      "          penalty='l2', random_state=None, solver='liblinear', tol=0.0001,\n",
      "          verbose=0, warm_start=False)}, 'RandomForestClassifier': {'best_params': {'criterion': 'entropy', 'min_samples_leaf': 1, 'max_depth': 10, 'n_estimators': 9, 'max_features': 'log2', 'min_samples_split': 3}, 'best_score': 0.8406285072951739, 'estimator': RandomForestClassifier(bootstrap=True, class_weight=None, criterion='entropy',\n",
      "            max_depth=10, max_features='log2', max_leaf_nodes=None,\n",
      "            min_impurity_split=1e-07, min_samples_leaf=1,\n",
      "            min_samples_split=3, min_weight_fraction_leaf=0.0,\n",
      "            n_estimators=9, n_jobs=1, oob_score=False, random_state=None,\n",
      "            verbose=0, warm_start=False)}, 'KNeighborsClassifier': {'best_params': {'weights': 'uniform', 'p': 1, 'algorithm': 'brute', 'n_neighbors': 5}, 'best_score': 0.7755331088664422, 'estimator': KNeighborsClassifier(algorithm='brute', leaf_size=30, metric='minkowski',\n",
      "           metric_params=None, n_jobs=1, n_neighbors=5, p=1,\n",
      "           weights='uniform')}}\n"
     ]
    }
   ],
   "source": [
    "from sklearn.model_selection import GridSearchCV\n",
    "\n",
    "from sklearn.neighbors import KNeighborsClassifier\n",
    "from sklearn.linear_model import LogisticRegression\n",
    "def select_model(df,features):\n",
    "    all_X=df[features];\n",
    "    all_y=df[\"Survived\"];\n",
    "    model_name=[\n",
    "        \n",
    "        {\n",
    "            \"name\": \"KNeighborsClassifier\",\n",
    "            \"estimator\": KNeighborsClassifier(),\n",
    "            \"hyperparameters\":\n",
    "            {\n",
    "                \"n_neighbors\": range(1,20,2),\n",
    "                \"weights\": [\"distance\", \"uniform\"],\n",
    "                \"algorithm\": [\"ball_tree\", \"kd_tree\", \"brute\"],\n",
    "                \"p\": [1,2]\n",
    "            }\n",
    "        },\n",
    "        {\n",
    "            \"name\": \"LogisticRegression\",\n",
    "            \"estimator\":LogisticRegression(),\n",
    "            \"hyperparameters\":\n",
    "            {\n",
    "                \"solver\":[\"newton-cg\",\"lbfgs\",\"liblinear\"]\n",
    "            }\n",
    "        },\n",
    "        {\n",
    "            \"name\":\"RandomForestClassifier\",\n",
    "            \"estimator\":RandomForestClassifier(),\n",
    "            \"hyperparameters\":\n",
    "            { \n",
    "                \"n_estimators\":[4,6,9],\n",
    "                \"criterion\":[\"entropy\",\"gini\"],\n",
    "                \"max_depth\" :[2,5,10],\n",
    "                \"max_features\":[\"log2\",\"sqrt\"],\n",
    "                \"min_samples_leaf\":[1,5,8],\n",
    "                \"min_samples_split\":[2,3,5]\n",
    "            }\n",
    "        }\n",
    "    ]\n",
    "    best_model={} ;\n",
    "    for each in model_name:\n",
    "        temp={};\n",
    "        grid=GridSearchCV(each[\"estimator\"],param_grid=each[\"hyperparameters\"],cv=10);\n",
    "        grid.fit(all_X,all_y);\n",
    "        temp[\"best_params\"]=grid.best_params_;\n",
    "        temp[\"best_score\"]=grid.best_score_;\n",
    "        temp[\"estimator\"]=grid.best_estimator_;\n",
    "        best_model[each[\"name\"]]=temp;\n",
    "    return best_model;\n",
    "final_model=select_model(train,best_columns);\n",
    "print(final_model);\n"
   ]
  },
  {
   "cell_type": "code",
   "execution_count": 24,
   "metadata": {
    "collapsed": false
   },
   "outputs": [],
   "source": [
    "def save_submission_file(model,features,filename):\n",
    "    holdout_predictions=model.predict(holdout[features]);\n",
    "    submission={\"PasengerId\":holdout[\"PassengerId\"],\n",
    "                \"Survived\":holdout_predictions};\n",
    "    submission=pd.DataFrame(submission);\n",
    "    submission.to_csv(filename,index=False);\n",
    "model=final_model[\"RandomForestClassifier\"][\"estimator\"];\n",
    "save_submission_file(model,best_columns,\"output.csv\")\n",
    "\n",
    "    "
   ]
  },
  {
   "cell_type": "code",
   "execution_count": null,
   "metadata": {
    "collapsed": false
   },
   "outputs": [],
   "source": []
  },
  {
   "cell_type": "code",
   "execution_count": null,
   "metadata": {
    "collapsed": true
   },
   "outputs": [],
   "source": []
  }
 ],
 "metadata": {
  "kernelspec": {
   "display_name": "Python 3",
   "language": "python",
   "name": "python3"
  },
  "language_info": {
   "codemirror_mode": {
    "name": "ipython",
    "version": 3
   },
   "file_extension": ".py",
   "mimetype": "text/x-python",
   "name": "python",
   "nbconvert_exporter": "python",
   "pygments_lexer": "ipython3",
   "version": "3.4.3"
  }
 },
 "nbformat": 4,
 "nbformat_minor": 2
}
